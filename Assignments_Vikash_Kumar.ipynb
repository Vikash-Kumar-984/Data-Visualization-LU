{
  "nbformat": 4,
  "nbformat_minor": 0,
  "metadata": {
    "colab": {
      "name": "Assignments_Vikash Kumar.ipynb",
      "provenance": [],
      "collapsed_sections": []
    },
    "kernelspec": {
      "name": "python3",
      "display_name": "Python 3"
    },
    "language_info": {
      "name": "python"
    }
  },
  "cells": [
    {
      "cell_type": "code",
      "metadata": {
        "id": "Jkxl_2EoVxni"
      },
      "source": [
        ""
      ],
      "execution_count": null,
      "outputs": []
    },
    {
      "cell_type": "markdown",
      "metadata": {
        "id": "gh4aR-kmV3UB"
      },
      "source": [
        "# Day 1 Assignment\n",
        "\n"
      ]
    },
    {
      "cell_type": "markdown",
      "metadata": {
        "id": "xUJpuScoWDJa"
      },
      "source": [
        "Question 1\n",
        "\n",
        "Plot a line plot between a and b: a=np.arange(40,50) b=np.arange(50,60)"
      ]
    },
    {
      "cell_type": "code",
      "metadata": {
        "id": "AybeuVaoWFUD"
      },
      "source": [
        "import numpy as np\n",
        "import pandas as pd\n",
        "import seaborn as sns\n",
        "from numpy.random import randn, randint, uniform, sample\n",
        "\n",
        "import matplotlib as mpl\n",
        "import matplotlib.pyplot as plt\n",
        "%matplotlib inline"
      ],
      "execution_count": 1,
      "outputs": []
    },
    {
      "cell_type": "code",
      "metadata": {
        "id": "pWGgU_s0WKS5"
      },
      "source": [
        "a=np.arange(40,50) \n",
        "b=np.arange(50,60)"
      ],
      "execution_count": 2,
      "outputs": []
    },
    {
      "cell_type": "code",
      "metadata": {
        "colab": {
          "base_uri": "https://localhost:8080/",
          "height": 312
        },
        "id": "nE8jMdOmWRNW",
        "outputId": "5a28bfc7-02e6-438b-aa10-fae464717ce7"
      },
      "source": [
        "plt.plot(a,b,'go--', linewidth=1, markersize=5)\n",
        "plt.title('Line Plot')\n",
        "plt.xlabel('x-axis')\n",
        "plt.ylabel('y-axis')"
      ],
      "execution_count": 3,
      "outputs": [
        {
          "output_type": "execute_result",
          "data": {
            "text/plain": [
              "Text(0, 0.5, 'y-axis')"
            ]
          },
          "metadata": {
            "tags": []
          },
          "execution_count": 3
        },
        {
          "output_type": "display_data",
          "data": {
            "image/png": "[encoded data removed]",
            "text/plain": [
              "<Figure size 432x288 with 1 Axes>"
            ]
          },
          "metadata": {
            "tags": [],
            "needs_background": "light"
          }
        }
      ]
    },
    {
      "cell_type": "markdown",
      "metadata": {
        "id": "Pj8YQUiCWW1X"
      },
      "source": [
        "Question 2\n",
        "\n",
        "Plot a line plot showing the sales trend in company 1 and 2:\n",
        "\n",
        "days = [1,2,3,4,5,6,7] #days of d\n",
        "\n",
        " week sales_1 = [160,150,140,145,175,165,180] #sales of company1\n",
        " \n",
        "  sales_2 = [70,90,160,150,140,145,175] #sales of company2"
      ]
    },
    {
      "cell_type": "code",
      "metadata": {
        "id": "rhT1YjB7WdCF"
      },
      "source": [
        "days = [1,2,3,4,5,6,7] #days of d week\n",
        "sales_1 = [160,150,140,145,175,165,180] #sales of company1\n",
        "sales_2 = [70,90,160,150,140,145,175]  #sales of company2\n"
      ],
      "execution_count": 4,
      "outputs": []
    },
    {
      "cell_type": "code",
      "metadata": {
        "colab": {
          "base_uri": "https://localhost:8080/",
          "height": 312
        },
        "id": "hpkxQxhvWgvd",
        "outputId": "e14ab748-450b-4a6a-fedf-66826cc85775"
      },
      "source": [
        "plt.plot(days,sales_1,sales_2,'go--', linewidth=1, markersize=5)\n",
        "plt.title('Line Plot')\n",
        "plt.xlabel('days')\n",
        "plt.ylabel('sales')"
      ],
      "execution_count": 5,
      "outputs": [
        {
          "output_type": "execute_result",
          "data": {
            "text/plain": [
              "Text(0, 0.5, 'sales')"
            ]
          },
          "metadata": {
            "tags": []
          },
          "execution_count": 5
        },
        {
          "output_type": "display_data",
          "data": {
            "image/png": "[encoded data removed]",
            "text/plain": [
              "<Figure size 432x288 with 1 Axes>"
            ]
          },
          "metadata": {
            "tags": [],
            "needs_background": "light"
          }
        }
      ]
    },
    {
      "cell_type": "markdown",
      "metadata": {
        "id": "xdJgHLOuWk73"
      },
      "source": [
        "Question 3\n",
        "\n",
        "Create a 3 by 3 subplots:\n",
        "\n",
        "multiple plots\n",
        "\n",
        "x = [1,2,3,4]\n",
        "\n",
        "y1 = [4,3,2,1]\n",
        "\n",
        "y2 = [10,20,30,40]\n",
        "\n",
        "y3 = [40,30,20,10]\n",
        "\n",
        "y4 = [1,2,1,2]\n",
        "\n",
        "y5 = [40,70,90,70]"
      ]
    },
    {
      "cell_type": "code",
      "metadata": {
        "id": "Ow-ScaVnWlxm"
      },
      "source": [
        "x = [1,2,3,4]\n",
        "y1 = [4,3,2,1]\n",
        "y2 = [10,20,30,40]\n",
        "y3 = [40,30,20,10]\n",
        "y4 = [1,2,1,2]\n",
        "y5 = [40,70,90,70]\n"
      ],
      "execution_count": 6,
      "outputs": []
    },
    {
      "cell_type": "code",
      "metadata": {
        "colab": {
          "base_uri": "https://localhost:8080/",
          "height": 281
        },
        "id": "OuYCz-eEWpVz",
        "outputId": "aba9da23-351e-4515-a3bf-af4a8affa03a"
      },
      "source": [
        "plt.subplot(2,2,1)\n",
        "plt.plot(x,y1,'r--')\n",
        "plt.subplot(2,2,2)\n",
        "plt.plot(x,y2,'g*--')\n",
        "plt.subplot(2,2,3)\n",
        "plt.plot(x,y3,'bo')\n",
        "plt.subplot(2,2,4)\n",
        "plt.plot(x,y4,'go')\n"
      ],
      "execution_count": 7,
      "outputs": [
        {
          "output_type": "execute_result",
          "data": {
            "text/plain": [
              "[<matplotlib.lines.Line2D at 0x7f4caf56fc50>]"
            ]
          },
          "metadata": {
            "tags": []
          },
          "execution_count": 7
        },
        {
          "output_type": "display_data",
          "data": {
            "image/png": "[encoded data removed]",
            "text/plain": [
              "<Figure size 432x288 with 4 Axes>"
            ]
          },
          "metadata": {
            "tags": [],
            "needs_background": "light"
          }
        }
      ]
    }
  ]
}